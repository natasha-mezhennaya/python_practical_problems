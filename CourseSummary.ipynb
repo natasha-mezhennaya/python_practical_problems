{
 "cells": [
  {
   "cell_type": "markdown",
   "metadata": {},
   "source": [
    "## 1. Web page processing"
   ]
  },
  {
   "cell_type": "markdown",
   "metadata": {},
   "source": [
    "Count the number of 'C++' on page"
   ]
  },
  {
   "cell_type": "code",
   "execution_count": 1,
   "metadata": {},
   "outputs": [
    {
     "name": "stdout",
     "output_type": "stream",
     "text": [
      "18\n"
     ]
    }
   ],
   "source": [
    "import requests\n",
    "\n",
    "res = requests.get('https://ru.wikipedia.org/wiki/Python')\n",
    "print(res.text.count('C++'))"
   ]
  },
  {
   "cell_type": "markdown",
   "metadata": {},
   "source": [
    "Мы сохранили страницу с википедии про языки программирования и сохранили по адресу https://stepik.org/media/attachments/lesson/209717/1.html\n",
    "\n",
    "Скачайте её с помощью скрипта на Питоне и посчитайте, какой язык упоминается чаще Python или C++ (ответ должен быть одной из этих двух строк)."
   ]
  },
  {
   "cell_type": "code",
   "execution_count": 4,
   "metadata": {},
   "outputs": [
    {
     "name": "stdout",
     "output_type": "stream",
     "text": [
      "C++\n"
     ]
    }
   ],
   "source": [
    "import requests\n",
    "\n",
    "res = requests.get('https://stepik.org/media/attachments/lesson/209717/1.html')\n",
    "print('C++' if res.text.count('C++') > res.text.count('Python') else 'Python')"
   ]
  },
  {
   "cell_type": "markdown",
   "metadata": {},
   "source": [
    "Посчитать те, которые вне тегов - только текст"
   ]
  },
  {
   "cell_type": "code",
   "execution_count": 5,
   "metadata": {},
   "outputs": [
    {
     "name": "stdout",
     "output_type": "stream",
     "text": [
      "9\n"
     ]
    }
   ],
   "source": [
    "import requests\n",
    "\n",
    "res = requests.get('https://stepik.org/media/attachments/lesson/209717/1.html')\n",
    "\n",
    "s = res.text\n",
    "ans = ''\n",
    "# state 0 - находмся вне тега, 1 - внутри тега\n",
    "state = 0 \n",
    "\n",
    "for c in s:\n",
    "    if c == '<':\n",
    "        state = 1\n",
    "    if c == '>':\n",
    "        state = 0\n",
    "    elif state == 0:\n",
    "        ans += c\n",
    "        \n",
    "print(ans.count('C++'))"
   ]
  },
  {
   "cell_type": "markdown",
   "metadata": {},
   "source": [
    "Файл https://stepik.org/media/attachments/lesson/209719/2.html содержит статью с Википедии про язык Python. В этой статье есть теги code, которыми выделяются конструкции на языке Python. Вам нужно найти все строки, содержащиеся между тегами <code> и </code> и найти те строки, которые встречаются чаще всего и вывести их в алфавитном порядке, разделяя пробелами.\n",
    "\n",
    "Например, если исходный текст страницы выглядел бы так:\n",
    "\n",
    "<code>a</code>\n",
    "<a>bracadabr</a>\n",
    "<code>c</code>\n",
    "<code>b</code>\n",
    "<code>b</code>\n",
    "<code>c</code>\n",
    "то в ответ надо было бы ввести строку \"b c\"."
   ]
  },
  {
   "cell_type": "code",
   "execution_count": 33,
   "metadata": {},
   "outputs": [
    {
     "name": "stdout",
     "output_type": "stream",
     "text": [
      "else except finally\n"
     ]
    }
   ],
   "source": [
    "import re\n",
    "import requests\n",
    "import collections\n",
    "\n",
    "res = requests.get('https://stepik.org/media/attachments/lesson/209719/2.html')\n",
    "pattern = r'<code>(.*?)</code>'\n",
    "s = re.findall(pattern, res.text)\n",
    "count = collections.Counter(s).most_common()\n",
    "\n",
    "if len(count) > 0:\n",
    "    s = count[0][0]\n",
    "    c = count[0][1]\n",
    "\n",
    "for i in range(1, len(count)):\n",
    "    if count[i-1][1] > count[i][1]:\n",
    "        break\n",
    "    else:\n",
    "        s += ' ' + count[i][0]\n",
    "\n",
    "print(s)\n"
   ]
  },
  {
   "cell_type": "code",
   "execution_count": null,
   "metadata": {},
   "outputs": [],
   "source": []
  },
  {
   "cell_type": "code",
   "execution_count": null,
   "metadata": {},
   "outputs": [],
   "source": []
  }
 ],
 "metadata": {
  "kernelspec": {
   "display_name": "Python 3",
   "language": "python",
   "name": "python3"
  },
  "language_info": {
   "codemirror_mode": {
    "name": "ipython",
    "version": 3
   },
   "file_extension": ".py",
   "mimetype": "text/x-python",
   "name": "python",
   "nbconvert_exporter": "python",
   "pygments_lexer": "ipython3",
   "version": "3.7.3"
  }
 },
 "nbformat": 4,
 "nbformat_minor": 4
}
