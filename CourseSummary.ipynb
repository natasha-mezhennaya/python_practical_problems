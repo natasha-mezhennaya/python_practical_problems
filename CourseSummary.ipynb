{
 "cells": [
  {
   "cell_type": "markdown",
   "metadata": {},
   "source": [
    "## 1. Web page processing"
   ]
  },
  {
   "cell_type": "markdown",
   "metadata": {},
   "source": [
    "Count the number of 'C++' on page"
   ]
  },
  {
   "cell_type": "code",
   "execution_count": 1,
   "metadata": {},
   "outputs": [
    {
     "name": "stdout",
     "output_type": "stream",
     "text": [
      "18\n"
     ]
    }
   ],
   "source": [
    "import requests\n",
    "\n",
    "res = requests.get('https://ru.wikipedia.org/wiki/Python')\n",
    "print(res.text.count('C++'))"
   ]
  },
  {
   "cell_type": "markdown",
   "metadata": {},
   "source": [
    "Мы сохранили страницу с википедии про языки программирования и сохранили по адресу https://stepik.org/media/attachments/lesson/209717/1.html\n",
    "\n",
    "Скачайте её с помощью скрипта на Питоне и посчитайте, какой язык упоминается чаще Python или C++ (ответ должен быть одной из этих двух строк)."
   ]
  },
  {
   "cell_type": "code",
   "execution_count": 4,
   "metadata": {},
   "outputs": [
    {
     "name": "stdout",
     "output_type": "stream",
     "text": [
      "C++\n"
     ]
    }
   ],
   "source": [
    "import requests\n",
    "\n",
    "res = requests.get('https://stepik.org/media/attachments/lesson/209717/1.html')\n",
    "print('C++' if res.text.count('C++') > res.text.count('Python') else 'Python')"
   ]
  },
  {
   "cell_type": "markdown",
   "metadata": {},
   "source": [
    "Посчитать те, которые вне тегов - только текст"
   ]
  },
  {
   "cell_type": "code",
   "execution_count": 5,
   "metadata": {},
   "outputs": [
    {
     "name": "stdout",
     "output_type": "stream",
     "text": [
      "9\n"
     ]
    }
   ],
   "source": [
    "import requests\n",
    "\n",
    "res = requests.get('https://stepik.org/media/attachments/lesson/209717/1.html')\n",
    "\n",
    "s = res.text\n",
    "ans = ''\n",
    "# state 0 - находмся вне тега, 1 - внутри тега\n",
    "state = 0 \n",
    "\n",
    "for c in s:\n",
    "    if c == '<':\n",
    "        state = 1\n",
    "    if c == '>':\n",
    "        state = 0\n",
    "    elif state == 0:\n",
    "        ans += c\n",
    "        \n",
    "print(ans.count('C++'))"
   ]
  },
  {
   "cell_type": "markdown",
   "metadata": {},
   "source": [
    "Файл https://stepik.org/media/attachments/lesson/209719/2.html содержит статью с Википедии про язык Python. В этой статье есть теги code, которыми выделяются конструкции на языке Python. Вам нужно найти все строки, содержащиеся между тегами <code> и </code> и найти те строки, которые встречаются чаще всего и вывести их в алфавитном порядке, разделяя пробелами.\n",
    "\n",
    "Например, если исходный текст страницы выглядел бы так:\n",
    "\n",
    "<code>a</code>\n",
    "<a>bracadabr</a>\n",
    "<code>c</code>\n",
    "<code>b</code>\n",
    "<code>b</code>\n",
    "<code>c</code>\n",
    "то в ответ надо было бы ввести строку \"b c\"."
   ]
  },
  {
   "cell_type": "code",
   "execution_count": 33,
   "metadata": {},
   "outputs": [
    {
     "name": "stdout",
     "output_type": "stream",
     "text": [
      "else except finally\n"
     ]
    }
   ],
   "source": [
    "import re\n",
    "import requests\n",
    "import collections\n",
    "\n",
    "res = requests.get('https://stepik.org/media/attachments/lesson/209719/2.html')\n",
    "pattern = r'<code>(.*?)</code>'\n",
    "s = re.findall(pattern, res.text)\n",
    "count = collections.Counter(s).most_common()\n",
    "\n",
    "if len(count) > 0:\n",
    "    s = count[0][0]\n",
    "    c = count[0][1]\n",
    "\n",
    "for i in range(1, len(count)):\n",
    "    if count[i-1][1] > count[i][1]:\n",
    "        break\n",
    "    else:\n",
    "        s += ' ' + count[i][0]\n",
    "\n",
    "print(s)\n"
   ]
  },
  {
   "cell_type": "markdown",
   "metadata": {},
   "source": [
    "**модуль BeautifulSoup**"
   ]
  },
  {
   "cell_type": "code",
   "execution_count": 51,
   "metadata": {},
   "outputs": [
    {
     "name": "stdout",
     "output_type": "stream",
     "text": [
      "200\n",
      "b'<!DOCTYPE html>\\n<html>\\n    <head>\\n        <title>A simple example page</title>\\n    </head>\\n    <body>\\n        <p>Here is some simple content for this page.</p>\\n    </body>\\n</html>'\n",
      "------\n",
      "<!DOCTYPE html>\n",
      "<html>\n",
      " <head>\n",
      "  <title>\n",
      "   A simple example page\n",
      "  </title>\n",
      " </head>\n",
      " <body>\n",
      "  <p>\n",
      "   Here is some simple content for this page.\n",
      "  </p>\n",
      " </body>\n",
      "</html>\n",
      "------\n",
      "<html>\n",
      "<head>\n",
      "<title>A simple example page</title>\n",
      "</head>\n",
      "<body>\n",
      "<p>Here is some simple content for this page.</p>\n",
      "</body>\n",
      "</html>\n",
      "------\n",
      "['\\n', <head>\n",
      "<title>A simple example page</title>\n",
      "</head>, '\\n', <body>\n",
      "<p>Here is some simple content for this page.</p>\n",
      "</body>, '\\n']\n",
      "------ нати все <p>\n",
      "[<p>Here is some simple content for this page.</p>]\n",
      "Here is some simple content for this page.\n"
     ]
    }
   ],
   "source": [
    "from bs4 import BeautifulSoup\n",
    "import requests\n",
    "\n",
    "res = requests.get('http://dataquestio.github.io/web-scraping-pages/simple.html')\n",
    "print(res.status_code)\n",
    "print(res.content)\n",
    "print('------')\n",
    "\n",
    "soup = BeautifulSoup(res.content, 'html.parser')\n",
    "print(soup.prettify())\n",
    "print('------')\n",
    "\n",
    "html = list(soup.children)[2]\n",
    "print(html)\n",
    "print('------')\n",
    "\n",
    "print(list(html.children))\n",
    "\n",
    "print('------ нати все <p>') \n",
    "print(soup.find_all('p'))\n",
    "print(soup.find_all('p')[0].get_text())"
   ]
  },
  {
   "cell_type": "code",
   "execution_count": 52,
   "metadata": {},
   "outputs": [
    {
     "name": "stdout",
     "output_type": "stream",
     "text": [
      "94596065609609271052308\n"
     ]
    }
   ],
   "source": [
    "from urllib.request import urlopen, urlretrieve\n",
    "from bs4 import BeautifulSoup\n",
    "\n",
    "resp = urlopen('https://stepik.org/media/attachments/lesson/245130/6.html') # скачиваем файл\n",
    "html = resp.read().decode('utf8') # считываем содержимое\n",
    "soup = BeautifulSoup(html, 'html.parser') # делаем суп\n",
    "table = soup.find('table', attrs = {'class' : 'wikitable sortable'})\n",
    "cnt = 0\n",
    "for tr in soup.find_all('tr'):\n",
    "    cnt += 1\n",
    "    for td in tr.find_all(['td', 'th']):\n",
    "        cnt *= 2\n",
    "print(cnt)"
   ]
  },
  {
   "cell_type": "markdown",
   "metadata": {},
   "source": [
    "В файле https://stepik.org/media/attachments/lesson/209723/3.html находится одна таблица. Просуммируйте все числа в ней и введите в качестве ответа одно число - эту сумму. Для доступа к ячейкам используйте возможности BeautifulSoup."
   ]
  },
  {
   "cell_type": "code",
   "execution_count": 67,
   "metadata": {},
   "outputs": [
    {
     "name": "stdout",
     "output_type": "stream",
     "text": [
      "1005425\n"
     ]
    }
   ],
   "source": [
    "from bs4 import BeautifulSoup\n",
    "import requests\n",
    "\n",
    "res = requests.get('https://stepik.org/media/attachments/lesson/209723/3.html')\n",
    "soup = BeautifulSoup(res.content, 'html.parser')\n",
    "\n",
    "table = [int(td.get_text().strip()) for td in soup.find_all('td')]\n",
    "\n",
    "print(sum(table))"
   ]
  },
  {
   "cell_type": "markdown",
   "metadata": {},
   "source": [
    "В файле https://stepik.org/media/attachments/lesson/209723/4.html находится одна таблица. Просуммируйте все числа в ней. Теперь мы добавили разных тегов для изменения стиля отображения. Для доступа к ячейкам используйте возможности BeautifulSoup."
   ]
  },
  {
   "cell_type": "code",
   "execution_count": 72,
   "metadata": {},
   "outputs": [
    {
     "name": "stdout",
     "output_type": "stream",
     "text": [
      "29536\n"
     ]
    }
   ],
   "source": [
    "from bs4 import BeautifulSoup\n",
    "import requests\n",
    "\n",
    "res = requests.get('https://stepik.org/media/attachments/lesson/209723/4.html')\n",
    "soup = BeautifulSoup(res.content, 'html.parser')\n",
    "\n",
    "table = [int(td.get_text().strip()) for td in soup.find_all('td')]\n",
    "\n",
    "print(sum(table))"
   ]
  },
  {
   "cell_type": "markdown",
   "metadata": {},
   "source": [
    "В файле https://stepik.org/media/attachments/lesson/209723/5.html находится одна таблица. Просуммируйте все числа в ней. Теперь мы не только добавили разных тегов для изменения стиля отображения, но и сделали невалидный HTML-код (правда, браузеры его отображают, а вот с BeautifulSoup могут быть проблемы). Невалидный HTML-код - не редкость в интернете, надо учиться работать и с этим.\n",
    "\n",
    "Вы можете исправить html-код или попробовать использовать нестандартный парсер html, такой как html5lib."
   ]
  },
  {
   "cell_type": "code",
   "execution_count": 73,
   "metadata": {},
   "outputs": [
    {
     "name": "stdout",
     "output_type": "stream",
     "text": [
      "28734\n"
     ]
    }
   ],
   "source": [
    "from bs4 import BeautifulSoup\n",
    "import requests\n",
    "\n",
    "res = requests.get('https://stepik.org/media/attachments/lesson/209723/5.html')\n",
    "soup = BeautifulSoup(res.content, 'html.parser')\n",
    "\n",
    "table = [int(td.get_text().strip()) for td in soup.find_all('td')]\n",
    "\n",
    "print(sum(table))"
   ]
  },
  {
   "cell_type": "markdown",
   "metadata": {},
   "source": [
    "**Электронные таблицы**"
   ]
  },
  {
   "cell_type": "markdown",
   "metadata": {},
   "source": [
    "Для решения этой задачи необходимо установить библиотеку xlrd, скачать файл https://stepik.org/media/attachments/lesson/245266/tab.xlsx и создать в папке с этим файлом скрипт со следующем содержанием:"
   ]
  },
  {
   "cell_type": "code",
   "execution_count": 74,
   "metadata": {},
   "outputs": [
    {
     "name": "stdout",
     "output_type": "stream",
     "text": [
      "39650.2\n"
     ]
    }
   ],
   "source": [
    "import xlrd\n",
    "\n",
    "wb = xlrd.open_workbook('tab.xlsx')\n",
    "sheet_names = wb.sheet_names()\n",
    "sh = wb.sheet_by_name(sheet_names[0])\n",
    "nmin = sh.row_values(6)[2]\n",
    "for rownum in range(7, 27):\n",
    "    temp = sh.row_values(rownum)\n",
    "    nmin = min(nmin, temp[2])\n",
    "print(nmin)"
   ]
  },
  {
   "cell_type": "markdown",
   "metadata": {},
   "source": [
    "Вася планирует карьеру и переезд. Для это составил таблицу, в которой для каждого региона записал зарплаты для разных интересные ему профессий. Таблица доступна по ссылке https://stepik.org/media/attachments/lesson/245267/salaries.xlsx. Выведите название региона с самой высокой медианной зарплатой (медианой называется элемент, стоящий в середине массива после его упорядочивания) и, через пробел, название профессии с самой высокой средней зарплатой по всем регионам. "
   ]
  },
  {
   "cell_type": "code",
   "execution_count": 84,
   "metadata": {},
   "outputs": [
    {
     "name": "stdout",
     "output_type": "stream",
     "text": [
      "Куала-Лумпур Собачий парикмахер\n"
     ]
    }
   ],
   "source": [
    "import xlrd\n",
    "import requests\n",
    "\n",
    "res = requests.get('https://stepik.org/media/attachments/lesson/245267/salaries.xlsx')\n",
    "file = xlrd.open_workbook(file_contents=res.content)\n",
    "page = file.sheet_by_index(0)\n",
    "\n",
    "max_median = 0\n",
    "max_median_region = ''\n",
    "for i in range(1, page.nrows):    \n",
    "    median = sorted(page.row_values(i)[1:])\n",
    "    median = median[len(median)//2]\n",
    "    if median > max_median:\n",
    "        max_median = median\n",
    "        max_median_region = page.row_values(i)[0]\n",
    "print(max_median_region, end=' ')\n",
    "\n",
    "max_avg = 0\n",
    "max_avg_profession = ''\n",
    "for i in range(1, page.ncols):    \n",
    "    avg = page.col_values(i)[1:]\n",
    "    avg = sum(avg)/len(avg)\n",
    "    if avg > max_avg:\n",
    "        max_avg = avg\n",
    "        max_avg_profession = page.col_values(i)[0]\n",
    "print(max_avg_profession)\n"
   ]
  },
  {
   "cell_type": "markdown",
   "metadata": {},
   "source": [
    "то же самое через pandas"
   ]
  },
  {
   "cell_type": "code",
   "execution_count": 87,
   "metadata": {},
   "outputs": [
    {
     "name": "stdout",
     "output_type": "stream",
     "text": [
      "Куала-Лумпур Собачий парикмахер\n"
     ]
    }
   ],
   "source": [
    "import pandas as pd\n",
    "\n",
    "data = pd.read_excel('https://stepik.org/media/attachments/lesson/245267/salaries.xlsx', index_col=0)\n",
    "print(data.median(axis=1).idxmax(), data.mean(axis=0).idxmax())"
   ]
  },
  {
   "cell_type": "markdown",
   "metadata": {},
   "source": [
    "Васю назначили завхозом в туристической группе и он подошёл к подготовке ответственно, составив справочник продуктов с указанием калорийности на 100 грамм, а также содержание белков, жиров и углеводов на 100 грамм продукта. Ему не удалось найти всю информацию, поэтому некоторые ячейки остались незаполненными (можно считать их значение равным нулю). Также он использовал какой-то странный офисный пакет и разделял целую и дробную часть чисел запятой. Таблица доступна по ссылке https://stepik.org/media/attachments/lesson/245290/trekking1.xlsx\n",
    "\n",
    "Вася хочет минимизировать вес продуктов и для этого брать самые калорийные продукты. Помогите ему и упорядочите продукты по убыванию калорийности. В случае, если продукты имеют одинаковую калорийность - упорядочите их по названию. В качестве ответа необходимо сдать названия продуктов, по одному в строке."
   ]
  },
  {
   "cell_type": "code",
   "execution_count": 102,
   "metadata": {},
   "outputs": [],
   "source": [
    "import xlrd\n",
    "import requests\n",
    "\n",
    "res = requests.get('https://stepik.org/media/attachments/lesson/245290/trekking1.xlsx')\n",
    "file = xlrd.open_workbook(file_contents=res.content)\n",
    "page = file.sheet_by_index(0)\n",
    "\n",
    "d = {}\n",
    "for i in range(1, page.nrows):\n",
    "    if page.row_values(i)[0] not in d:\n",
    "        d[page.row_values(i)[0]] = page.row_values(i)[1]\n",
    "\n",
    "d_sort = sorted(d.items(), key=lambda x: (-x[1], x[0]))\n",
    "\n",
    "with open('answer.txt', 'w') as ans:\n",
    "    for elem in d_sort:\n",
    "        ans.write(elem[0].strip()+'\\n')"
   ]
  },
  {
   "cell_type": "markdown",
   "metadata": {},
   "source": [
    "Васю назначили завхозом в туристической группе и он подошёл к подготовке ответственно, составив справочник продуктов с указанием калорийности на 100 грамм, а также содержание белков, жиров и углеводов на 100 грамм продукта. Ему не удалось найти всю информацию, поэтому некоторые ячейки остались незаполненными (можно считать их значение равным нулю). Также он использовал какой-то странный офисный пакет и разделял целую и дробную часть чисел запятой. Таблица доступна по ссылке https://stepik.org/media/attachments/lesson/245290/trekking2.xlsx \n",
    "\n",
    "Вася составил раскладку по продуктам на один день (она на листе \"Раскладка\") с указанием названия продукта и его количества в граммах. Посчитайте 4 числа: суммарную калорийность и граммы белков, жиров и углеводов. Числа округлите до целых вниз и введите через пробел."
   ]
  },
  {
   "cell_type": "code",
   "execution_count": 148,
   "metadata": {},
   "outputs": [
    {
     "name": "stdout",
     "output_type": "stream",
     "text": [
      "4963 203 307 302\n"
     ]
    }
   ],
   "source": [
    "import xlrd\n",
    "import requests\n",
    "\n",
    "res = requests.get('https://stepik.org/media/attachments/lesson/245290/trekking2.xlsx')\n",
    "file = xlrd.open_workbook(file_contents=res.content)\n",
    "products = file.sheet_by_name('Справочник')\n",
    "day_norm = file.sheet_by_name('Раскладка')\n",
    "\n",
    "row = -1\n",
    "calories = .0\n",
    "proteins = .0\n",
    "fats = .0\n",
    "carbons = .0\n",
    "\n",
    "for row_num in range(1, day_norm.nrows):\n",
    "    product = day_norm.row_values(row_num)[0]\n",
    "    gramm = float(day_norm.row_values(row_num)[1])\n",
    "    if product in products.col_values(0, start_rowx=1):\n",
    "        row = products.col_values(0).index(product)\n",
    "        calories += (float(products.col_values(1)[row]) * gramm / 100) if products.col_values(1)[row] !='' else 0\n",
    "        proteins += (float(products.col_values(2)[row]) * gramm / 100) if products.col_values(2)[row] !='' else 0\n",
    "        fats += (float(products.col_values(3)[row]) * gramm / 100) if products.col_values(3)[row] !='' else 0\n",
    "        carbons += (float(products.col_values(4)[row]) * gramm / 100) if products.col_values(4)[row] !='' else 0\n",
    "\n",
    "print(int(calories), int(proteins), int(fats), int(carbons))"
   ]
  },
  {
   "cell_type": "markdown",
   "metadata": {},
   "source": [
    "Васю назначили завхозом в туристической группе и он подошёл к подготовке ответственно, составив справочник продуктов с указанием калорийности на 100 грамм, а также содержание белков, жиров и углеводов на 100 грамм продукта. Ему не удалось найти всю информацию, поэтому некоторые ячейки остались незаполненными (можно считать их значение равным нулю). Также он использовал какой-то странный офисный пакет и разделял целую и дробную часть чисел запятой. Таблица доступна по ссылке https://stepik.org/media/attachments/lesson/245290/trekking3.xlsx\n",
    "\n",
    "Вася составил раскладку по продуктам на весь поход (она на листе \"Раскладка\") с указанием номера дня, названия продукта и его количества в граммах. Для каждого дня посчитайте 4 числа: суммарную калорийность и граммы белков, жиров и углеводов. Числа округлите до целых вниз и введите через пробел. Информация о каждом дне должна выводиться в отдельной строке."
   ]
  },
  {
   "cell_type": "code",
   "execution_count": 152,
   "metadata": {},
   "outputs": [
    {
     "name": "stdout",
     "output_type": "stream",
     "text": [
      "2405 82 154 172\n",
      "4963 203 307 302\n",
      "5219 178 267 502\n",
      "4873 241 204 537\n",
      "5278 243 314 367\n",
      "4451 190 188 497\n",
      "4806 205 265 386\n",
      "5738 264 195 720\n",
      "1766 66 90 171\n"
     ]
    }
   ],
   "source": [
    "import xlrd\n",
    "import requests\n",
    "\n",
    "res = requests.get('https://stepik.org/media/attachments/lesson/245290/trekking3.xlsx')\n",
    "file = xlrd.open_workbook(file_contents=res.content)\n",
    "products = file.sheet_by_name('Справочник')\n",
    "day_norm = file.sheet_by_name('Раскладка')\n",
    "\n",
    "row = -1\n",
    "calories = .0\n",
    "proteins = .0\n",
    "fats = .0\n",
    "carbons = .0\n",
    "\n",
    "days = set([int(i) for i in day_norm.col_values(0, start_rowx=1)])\n",
    "for d in days:\n",
    "    row = -1\n",
    "    calories = .0\n",
    "    proteins = .0\n",
    "    fats = .0\n",
    "    carbons = .0\n",
    "    for row_num in range(1, day_norm.nrows):\n",
    "        if day_norm.row_values(row_num)[0] != d:\n",
    "            continue\n",
    "        product = day_norm.row_values(row_num)[1]\n",
    "        gramm = float(day_norm.row_values(row_num)[2])\n",
    "        if product in products.col_values(0, start_rowx=1):\n",
    "            row = products.col_values(0).index(product)\n",
    "            calories += (float(products.col_values(1)[row]) * gramm / 100) if products.col_values(1)[row] !='' else 0\n",
    "            proteins += (float(products.col_values(2)[row]) * gramm / 100) if products.col_values(2)[row] !='' else 0\n",
    "            fats += (float(products.col_values(3)[row]) * gramm / 100) if products.col_values(3)[row] !='' else 0\n",
    "            carbons += (float(products.col_values(4)[row]) * gramm / 100) if products.col_values(4)[row] !='' else 0\n",
    "\n",
    "    print(int(calories), int(proteins), int(fats), int(carbons))"
   ]
  },
  {
   "cell_type": "markdown",
   "metadata": {},
   "source": [
    "Главный бухгалтер компании \"Рога и копыта\" случайно удалил ведомость с начисленной зарплатой. К счастью, у него сохранились расчётные листки всех сотрудников. Помогите по этим расчётным листкам восстановить зарплатную ведомость. Архив с расчётными листками доступен по ссылке https://stepik.org/media/attachments/lesson/245299/rogaikopyta.zip (вы можете скачать и распаковать его вручную или самостоятельно научиться делать это с помощью скрипта на Питоне).\n",
    "\n",
    "Ведомость должна содержать 1000 строк, в каждой строке должно быть указано ФИО сотрудника и, через пробел, его зарплата. Сотрудники должны быть упорядочены по алфавиту."
   ]
  },
  {
   "cell_type": "code",
   "execution_count": 174,
   "metadata": {},
   "outputs": [],
   "source": [
    "import os\n",
    "import xlrd\n",
    "\n",
    "wd =  os.path.split(os.getcwd())[1]\n",
    "if wd != 'rogaikopyta':\n",
    "    os.chdir('rogaikopyta')\n",
    "\n",
    "dic = {}\n",
    "\n",
    "for d, dirs, files in os.walk(os.getcwd()):\n",
    "    for f in files:\n",
    "        file = xlrd.open_workbook(f)\n",
    "        sheet = file.sheet_by_index(0)\n",
    "        if sheet.col_values(1)[1] not in dic:\n",
    "            dic[sheet.col_values(1)[1]] = int(sheet.col_values(3)[1])\n",
    "\n",
    "with open('../answer.txt', 'w') as f:\n",
    "    for key in sorted(dic):\n",
    "        f.write(key + ' ' + str(dic[key]) + '\\n')\n",
    "    \n",
    "\n",
    "os.chdir('..')"
   ]
  },
  {
   "cell_type": "code",
   "execution_count": null,
   "metadata": {},
   "outputs": [],
   "source": []
  }
 ],
 "metadata": {
  "kernelspec": {
   "display_name": "Python 3",
   "language": "python",
   "name": "python3"
  },
  "language_info": {
   "codemirror_mode": {
    "name": "ipython",
    "version": 3
   },
   "file_extension": ".py",
   "mimetype": "text/x-python",
   "name": "python",
   "nbconvert_exporter": "python",
   "pygments_lexer": "ipython3",
   "version": "3.7.3"
  }
 },
 "nbformat": 4,
 "nbformat_minor": 4
}
