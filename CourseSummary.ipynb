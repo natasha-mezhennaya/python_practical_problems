{
 "cells": [
  {
   "cell_type": "markdown",
   "metadata": {},
   "source": [
    "## 1. Web page processing"
   ]
  },
  {
   "cell_type": "markdown",
   "metadata": {},
   "source": [
    "Count the number of 'C++' on page"
   ]
  },
  {
   "cell_type": "code",
   "execution_count": 1,
   "metadata": {},
   "outputs": [
    {
     "name": "stdout",
     "output_type": "stream",
     "text": [
      "18\n"
     ]
    }
   ],
   "source": [
    "import requests\n",
    "\n",
    "res = requests.get('https://ru.wikipedia.org/wiki/Python')\n",
    "print(res.text.count('C++'))"
   ]
  },
  {
   "cell_type": "markdown",
   "metadata": {},
   "source": [
    "Мы сохранили страницу с википедии про языки программирования и сохранили по адресу https://stepik.org/media/attachments/lesson/209717/1.html\n",
    "\n",
    "Скачайте её с помощью скрипта на Питоне и посчитайте, какой язык упоминается чаще Python или C++ (ответ должен быть одной из этих двух строк)."
   ]
  },
  {
   "cell_type": "code",
   "execution_count": 4,
   "metadata": {},
   "outputs": [
    {
     "name": "stdout",
     "output_type": "stream",
     "text": [
      "C++\n"
     ]
    }
   ],
   "source": [
    "import requests\n",
    "\n",
    "res = requests.get('https://stepik.org/media/attachments/lesson/209717/1.html')\n",
    "print('C++' if res.text.count('C++') > res.text.count('Python') else 'Python')"
   ]
  },
  {
   "cell_type": "markdown",
   "metadata": {},
   "source": [
    "Посчитать те, которые вне тегов - только текст"
   ]
  },
  {
   "cell_type": "code",
   "execution_count": 5,
   "metadata": {},
   "outputs": [
    {
     "name": "stdout",
     "output_type": "stream",
     "text": [
      "9\n"
     ]
    }
   ],
   "source": [
    "import requests\n",
    "\n",
    "res = requests.get('https://stepik.org/media/attachments/lesson/209717/1.html')\n",
    "\n",
    "s = res.text\n",
    "ans = ''\n",
    "# state 0 - находмся вне тега, 1 - внутри тега\n",
    "state = 0 \n",
    "\n",
    "for c in s:\n",
    "    if c == '<':\n",
    "        state = 1\n",
    "    if c == '>':\n",
    "        state = 0\n",
    "    elif state == 0:\n",
    "        ans += c\n",
    "        \n",
    "print(ans.count('C++'))"
   ]
  },
  {
   "cell_type": "markdown",
   "metadata": {},
   "source": [
    "Файл https://stepik.org/media/attachments/lesson/209719/2.html содержит статью с Википедии про язык Python. В этой статье есть теги code, которыми выделяются конструкции на языке Python. Вам нужно найти все строки, содержащиеся между тегами <code> и </code> и найти те строки, которые встречаются чаще всего и вывести их в алфавитном порядке, разделяя пробелами.\n",
    "\n",
    "Например, если исходный текст страницы выглядел бы так:\n",
    "\n",
    "<code>a</code>\n",
    "<a>bracadabr</a>\n",
    "<code>c</code>\n",
    "<code>b</code>\n",
    "<code>b</code>\n",
    "<code>c</code>\n",
    "то в ответ надо было бы ввести строку \"b c\"."
   ]
  },
  {
   "cell_type": "code",
   "execution_count": 33,
   "metadata": {},
   "outputs": [
    {
     "name": "stdout",
     "output_type": "stream",
     "text": [
      "else except finally\n"
     ]
    }
   ],
   "source": [
    "import re\n",
    "import requests\n",
    "import collections\n",
    "\n",
    "res = requests.get('https://stepik.org/media/attachments/lesson/209719/2.html')\n",
    "pattern = r'<code>(.*?)</code>'\n",
    "s = re.findall(pattern, res.text)\n",
    "count = collections.Counter(s).most_common()\n",
    "\n",
    "if len(count) > 0:\n",
    "    s = count[0][0]\n",
    "    c = count[0][1]\n",
    "\n",
    "for i in range(1, len(count)):\n",
    "    if count[i-1][1] > count[i][1]:\n",
    "        break\n",
    "    else:\n",
    "        s += ' ' + count[i][0]\n",
    "\n",
    "print(s)\n"
   ]
  },
  {
   "cell_type": "markdown",
   "metadata": {},
   "source": [
    "**модуль BeautifulSoup**"
   ]
  },
  {
   "cell_type": "code",
   "execution_count": 51,
   "metadata": {},
   "outputs": [
    {
     "name": "stdout",
     "output_type": "stream",
     "text": [
      "200\n",
      "b'<!DOCTYPE html>\\n<html>\\n    <head>\\n        <title>A simple example page</title>\\n    </head>\\n    <body>\\n        <p>Here is some simple content for this page.</p>\\n    </body>\\n</html>'\n",
      "------\n",
      "<!DOCTYPE html>\n",
      "<html>\n",
      " <head>\n",
      "  <title>\n",
      "   A simple example page\n",
      "  </title>\n",
      " </head>\n",
      " <body>\n",
      "  <p>\n",
      "   Here is some simple content for this page.\n",
      "  </p>\n",
      " </body>\n",
      "</html>\n",
      "------\n",
      "<html>\n",
      "<head>\n",
      "<title>A simple example page</title>\n",
      "</head>\n",
      "<body>\n",
      "<p>Here is some simple content for this page.</p>\n",
      "</body>\n",
      "</html>\n",
      "------\n",
      "['\\n', <head>\n",
      "<title>A simple example page</title>\n",
      "</head>, '\\n', <body>\n",
      "<p>Here is some simple content for this page.</p>\n",
      "</body>, '\\n']\n",
      "------ нати все <p>\n",
      "[<p>Here is some simple content for this page.</p>]\n",
      "Here is some simple content for this page.\n"
     ]
    }
   ],
   "source": [
    "from bs4 import BeautifulSoup\n",
    "import requests\n",
    "\n",
    "res = requests.get('http://dataquestio.github.io/web-scraping-pages/simple.html')\n",
    "print(res.status_code)\n",
    "print(res.content)\n",
    "print('------')\n",
    "\n",
    "soup = BeautifulSoup(res.content, 'html.parser')\n",
    "print(soup.prettify())\n",
    "print('------')\n",
    "\n",
    "html = list(soup.children)[2]\n",
    "print(html)\n",
    "print('------')\n",
    "\n",
    "print(list(html.children))\n",
    "\n",
    "print('------ нати все <p>') \n",
    "print(soup.find_all('p'))\n",
    "print(soup.find_all('p')[0].get_text())"
   ]
  },
  {
   "cell_type": "code",
   "execution_count": 52,
   "metadata": {},
   "outputs": [
    {
     "name": "stdout",
     "output_type": "stream",
     "text": [
      "94596065609609271052308\n"
     ]
    }
   ],
   "source": [
    "from urllib.request import urlopen, urlretrieve\n",
    "from bs4 import BeautifulSoup\n",
    "\n",
    "resp = urlopen('https://stepik.org/media/attachments/lesson/245130/6.html') # скачиваем файл\n",
    "html = resp.read().decode('utf8') # считываем содержимое\n",
    "soup = BeautifulSoup(html, 'html.parser') # делаем суп\n",
    "table = soup.find('table', attrs = {'class' : 'wikitable sortable'})\n",
    "cnt = 0\n",
    "for tr in soup.find_all('tr'):\n",
    "    cnt += 1\n",
    "    for td in tr.find_all(['td', 'th']):\n",
    "        cnt *= 2\n",
    "print(cnt)"
   ]
  },
  {
   "cell_type": "markdown",
   "metadata": {},
   "source": [
    "В файле https://stepik.org/media/attachments/lesson/209723/3.html находится одна таблица. Просуммируйте все числа в ней и введите в качестве ответа одно число - эту сумму. Для доступа к ячейкам используйте возможности BeautifulSoup."
   ]
  },
  {
   "cell_type": "code",
   "execution_count": 67,
   "metadata": {},
   "outputs": [
    {
     "name": "stdout",
     "output_type": "stream",
     "text": [
      "1005425\n"
     ]
    }
   ],
   "source": [
    "from bs4 import BeautifulSoup\n",
    "import requests\n",
    "\n",
    "res = requests.get('https://stepik.org/media/attachments/lesson/209723/3.html')\n",
    "soup = BeautifulSoup(res.content, 'html.parser')\n",
    "\n",
    "table = [int(td.get_text().strip()) for td in soup.find_all('td')]\n",
    "\n",
    "print(sum(table))"
   ]
  },
  {
   "cell_type": "markdown",
   "metadata": {},
   "source": [
    "В файле https://stepik.org/media/attachments/lesson/209723/4.html находится одна таблица. Просуммируйте все числа в ней. Теперь мы добавили разных тегов для изменения стиля отображения. Для доступа к ячейкам используйте возможности BeautifulSoup."
   ]
  },
  {
   "cell_type": "code",
   "execution_count": 72,
   "metadata": {},
   "outputs": [
    {
     "name": "stdout",
     "output_type": "stream",
     "text": [
      "29536\n"
     ]
    }
   ],
   "source": [
    "from bs4 import BeautifulSoup\n",
    "import requests\n",
    "\n",
    "res = requests.get('https://stepik.org/media/attachments/lesson/209723/4.html')\n",
    "soup = BeautifulSoup(res.content, 'html.parser')\n",
    "\n",
    "table = [int(td.get_text().strip()) for td in soup.find_all('td')]\n",
    "\n",
    "print(sum(table))"
   ]
  },
  {
   "cell_type": "markdown",
   "metadata": {},
   "source": [
    "В файле https://stepik.org/media/attachments/lesson/209723/5.html находится одна таблица. Просуммируйте все числа в ней. Теперь мы не только добавили разных тегов для изменения стиля отображения, но и сделали невалидный HTML-код (правда, браузеры его отображают, а вот с BeautifulSoup могут быть проблемы). Невалидный HTML-код - не редкость в интернете, надо учиться работать и с этим.\n",
    "\n",
    "Вы можете исправить html-код или попробовать использовать нестандартный парсер html, такой как html5lib."
   ]
  },
  {
   "cell_type": "code",
   "execution_count": 73,
   "metadata": {},
   "outputs": [
    {
     "name": "stdout",
     "output_type": "stream",
     "text": [
      "28734\n"
     ]
    }
   ],
   "source": [
    "from bs4 import BeautifulSoup\n",
    "import requests\n",
    "\n",
    "res = requests.get('https://stepik.org/media/attachments/lesson/209723/5.html')\n",
    "soup = BeautifulSoup(res.content, 'html.parser')\n",
    "\n",
    "table = [int(td.get_text().strip()) for td in soup.find_all('td')]\n",
    "\n",
    "print(sum(table))"
   ]
  },
  {
   "cell_type": "markdown",
   "metadata": {},
   "source": [
    "**Электронные таблицы**"
   ]
  },
  {
   "cell_type": "markdown",
   "metadata": {},
   "source": [
    "Для решения этой задачи необходимо установить библиотеку xlrd, скачать файл https://stepik.org/media/attachments/lesson/245266/tab.xlsx и создать в папке с этим файлом скрипт со следующем содержанием:"
   ]
  },
  {
   "cell_type": "code",
   "execution_count": 74,
   "metadata": {},
   "outputs": [
    {
     "name": "stdout",
     "output_type": "stream",
     "text": [
      "39650.2\n"
     ]
    }
   ],
   "source": [
    "import xlrd\n",
    "\n",
    "wb = xlrd.open_workbook('tab.xlsx')\n",
    "sheet_names = wb.sheet_names()\n",
    "sh = wb.sheet_by_name(sheet_names[0])\n",
    "nmin = sh.row_values(6)[2]\n",
    "for rownum in range(7, 27):\n",
    "    temp = sh.row_values(rownum)\n",
    "    nmin = min(nmin, temp[2])\n",
    "print(nmin)"
   ]
  },
  {
   "cell_type": "markdown",
   "metadata": {},
   "source": [
    "Вася планирует карьеру и переезд. Для это составил таблицу, в которой для каждого региона записал зарплаты для разных интересные ему профессий. Таблица доступна по ссылке https://stepik.org/media/attachments/lesson/245267/salaries.xlsx. Выведите название региона с самой высокой медианной зарплатой (медианой называется элемент, стоящий в середине массива после его упорядочивания) и, через пробел, название профессии с самой высокой средней зарплатой по всем регионам. "
   ]
  },
  {
   "cell_type": "code",
   "execution_count": 84,
   "metadata": {},
   "outputs": [
    {
     "name": "stdout",
     "output_type": "stream",
     "text": [
      "Куала-Лумпур Собачий парикмахер\n"
     ]
    }
   ],
   "source": [
    "import xlrd\n",
    "import requests\n",
    "\n",
    "res = requests.get('https://stepik.org/media/attachments/lesson/245267/salaries.xlsx')\n",
    "file = xlrd.open_workbook(file_contents=res.content)\n",
    "page = file.sheet_by_index(0)\n",
    "\n",
    "max_median = 0\n",
    "max_median_region = ''\n",
    "for i in range(1, page.nrows):    \n",
    "    median = sorted(page.row_values(i)[1:])\n",
    "    median = median[len(median)//2]\n",
    "    if median > max_median:\n",
    "        max_median = median\n",
    "        max_median_region = page.row_values(i)[0]\n",
    "print(max_median_region, end=' ')\n",
    "\n",
    "max_avg = 0\n",
    "max_avg_profession = ''\n",
    "for i in range(1, page.ncols):    \n",
    "    avg = page.col_values(i)[1:]\n",
    "    avg = sum(avg)/len(avg)\n",
    "    if avg > max_avg:\n",
    "        max_avg = avg\n",
    "        max_avg_profession = page.col_values(i)[0]\n",
    "print(max_avg_profession)\n"
   ]
  },
  {
   "cell_type": "markdown",
   "metadata": {},
   "source": [
    "то же самое через pandas"
   ]
  },
  {
   "cell_type": "code",
   "execution_count": 87,
   "metadata": {},
   "outputs": [
    {
     "name": "stdout",
     "output_type": "stream",
     "text": [
      "Куала-Лумпур Собачий парикмахер\n"
     ]
    }
   ],
   "source": [
    "import pandas as pd\n",
    "\n",
    "data = pd.read_excel('https://stepik.org/media/attachments/lesson/245267/salaries.xlsx', index_col=0)\n",
    "print(data.median(axis=1).idxmax(), data.mean(axis=0).idxmax())"
   ]
  },
  {
   "cell_type": "code",
   "execution_count": null,
   "metadata": {},
   "outputs": [],
   "source": []
  }
 ],
 "metadata": {
  "kernelspec": {
   "display_name": "Python 3",
   "language": "python",
   "name": "python3"
  },
  "language_info": {
   "codemirror_mode": {
    "name": "ipython",
    "version": 3
   },
   "file_extension": ".py",
   "mimetype": "text/x-python",
   "name": "python",
   "nbconvert_exporter": "python",
   "pygments_lexer": "ipython3",
   "version": "3.7.3"
  }
 },
 "nbformat": 4,
 "nbformat_minor": 4
}
