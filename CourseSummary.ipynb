{
 "cells": [
  {
   "cell_type": "markdown",
   "metadata": {},
   "source": [
    "## Web page processing"
   ]
  },
  {
   "cell_type": "markdown",
   "metadata": {},
   "source": [
    "Count the number of 'C++' on page"
   ]
  },
  {
   "cell_type": "code",
   "execution_count": 1,
   "metadata": {},
   "outputs": [
    {
     "name": "stdout",
     "output_type": "stream",
     "text": [
      "18\n"
     ]
    }
   ],
   "source": [
    "import requests\n",
    "\n",
    "res = requests.get('https://ru.wikipedia.org/wiki/Python')\n",
    "print(res.text.count('C++'))"
   ]
  },
  {
   "cell_type": "markdown",
   "metadata": {},
   "source": [
    "Мы сохранили страницу с википедии про языки программирования и сохранили по адресу https://stepik.org/media/attachments/lesson/209717/1.html\n",
    "\n",
    "Скачайте её с помощью скрипта на Питоне и посчитайте, какой язык упоминается чаще Python или C++ (ответ должен быть одной из этих двух строк)."
   ]
  },
  {
   "cell_type": "code",
   "execution_count": 4,
   "metadata": {},
   "outputs": [
    {
     "name": "stdout",
     "output_type": "stream",
     "text": [
      "C++\n"
     ]
    }
   ],
   "source": [
    "import requests\n",
    "\n",
    "res = requests.get('https://stepik.org/media/attachments/lesson/209717/1.html')\n",
    "print('C++' if res.text.count('C++') > res.text.count('Python') else 'Python')"
   ]
  },
  {
   "cell_type": "markdown",
   "metadata": {},
   "source": [
    "Посчитать те, которые вне тегов - только текст"
   ]
  },
  {
   "cell_type": "code",
   "execution_count": 5,
   "metadata": {},
   "outputs": [
    {
     "name": "stdout",
     "output_type": "stream",
     "text": [
      "9\n"
     ]
    }
   ],
   "source": [
    "import requests\n",
    "\n",
    "res = requests.get('https://stepik.org/media/attachments/lesson/209717/1.html')\n",
    "\n",
    "s = res.text\n",
    "ans = ''\n",
    "# state 0 - находмся вне тега, 1 - внутри тега\n",
    "state = 0 \n",
    "\n",
    "for c in s:\n",
    "    if c == '<':\n",
    "        state = 1\n",
    "    if c == '>':\n",
    "        state = 0\n",
    "    elif state == 0:\n",
    "        ans += c\n",
    "        \n",
    "print(ans.count('C++'))"
   ]
  },
  {
   "cell_type": "markdown",
   "metadata": {},
   "source": [
    "Файл https://stepik.org/media/attachments/lesson/209719/2.html содержит статью с Википедии про язык Python. В этой статье есть теги code, которыми выделяются конструкции на языке Python. Вам нужно найти все строки, содержащиеся между тегами <code> и </code> и найти те строки, которые встречаются чаще всего и вывести их в алфавитном порядке, разделяя пробелами.\n",
    "\n",
    "Например, если исходный текст страницы выглядел бы так:\n",
    "\n",
    "<code>a</code>\n",
    "<a>bracadabr</a>\n",
    "<code>c</code>\n",
    "<code>b</code>\n",
    "<code>b</code>\n",
    "<code>c</code>\n",
    "то в ответ надо было бы ввести строку \"b c\"."
   ]
  },
  {
   "cell_type": "code",
   "execution_count": 33,
   "metadata": {},
   "outputs": [
    {
     "name": "stdout",
     "output_type": "stream",
     "text": [
      "else except finally\n"
     ]
    }
   ],
   "source": [
    "import re\n",
    "import requests\n",
    "import collections\n",
    "\n",
    "res = requests.get('https://stepik.org/media/attachments/lesson/209719/2.html')\n",
    "pattern = r'<code>(.*?)</code>'\n",
    "s = re.findall(pattern, res.text)\n",
    "count = collections.Counter(s).most_common()\n",
    "\n",
    "if len(count) > 0:\n",
    "    s = count[0][0]\n",
    "    c = count[0][1]\n",
    "\n",
    "for i in range(1, len(count)):\n",
    "    if count[i-1][1] > count[i][1]:\n",
    "        break\n",
    "    else:\n",
    "        s += ' ' + count[i][0]\n",
    "\n",
    "print(s)\n"
   ]
  },
  {
   "cell_type": "markdown",
   "metadata": {},
   "source": [
    "**модуль BeautifulSoup**"
   ]
  },
  {
   "cell_type": "code",
   "execution_count": 51,
   "metadata": {},
   "outputs": [
    {
     "name": "stdout",
     "output_type": "stream",
     "text": [
      "200\n",
      "b'<!DOCTYPE html>\\n<html>\\n    <head>\\n        <title>A simple example page</title>\\n    </head>\\n    <body>\\n        <p>Here is some simple content for this page.</p>\\n    </body>\\n</html>'\n",
      "------\n",
      "<!DOCTYPE html>\n",
      "<html>\n",
      " <head>\n",
      "  <title>\n",
      "   A simple example page\n",
      "  </title>\n",
      " </head>\n",
      " <body>\n",
      "  <p>\n",
      "   Here is some simple content for this page.\n",
      "  </p>\n",
      " </body>\n",
      "</html>\n",
      "------\n",
      "<html>\n",
      "<head>\n",
      "<title>A simple example page</title>\n",
      "</head>\n",
      "<body>\n",
      "<p>Here is some simple content for this page.</p>\n",
      "</body>\n",
      "</html>\n",
      "------\n",
      "['\\n', <head>\n",
      "<title>A simple example page</title>\n",
      "</head>, '\\n', <body>\n",
      "<p>Here is some simple content for this page.</p>\n",
      "</body>, '\\n']\n",
      "------ нати все <p>\n",
      "[<p>Here is some simple content for this page.</p>]\n",
      "Here is some simple content for this page.\n"
     ]
    }
   ],
   "source": [
    "from bs4 import BeautifulSoup\n",
    "import requests\n",
    "\n",
    "res = requests.get('http://dataquestio.github.io/web-scraping-pages/simple.html')\n",
    "print(res.status_code)\n",
    "print(res.content)\n",
    "print('------')\n",
    "\n",
    "soup = BeautifulSoup(res.content, 'html.parser')\n",
    "print(soup.prettify())\n",
    "print('------')\n",
    "\n",
    "html = list(soup.children)[2]\n",
    "print(html)\n",
    "print('------')\n",
    "\n",
    "print(list(html.children))\n",
    "\n",
    "print('------ нати все <p>') \n",
    "print(soup.find_all('p'))\n",
    "print(soup.find_all('p')[0].get_text())"
   ]
  },
  {
   "cell_type": "code",
   "execution_count": 52,
   "metadata": {},
   "outputs": [
    {
     "name": "stdout",
     "output_type": "stream",
     "text": [
      "94596065609609271052308\n"
     ]
    }
   ],
   "source": [
    "from urllib.request import urlopen, urlretrieve\n",
    "from bs4 import BeautifulSoup\n",
    "\n",
    "resp = urlopen('https://stepik.org/media/attachments/lesson/245130/6.html') # скачиваем файл\n",
    "html = resp.read().decode('utf8') # считываем содержимое\n",
    "soup = BeautifulSoup(html, 'html.parser') # делаем суп\n",
    "table = soup.find('table', attrs = {'class' : 'wikitable sortable'})\n",
    "cnt = 0\n",
    "for tr in soup.find_all('tr'):\n",
    "    cnt += 1\n",
    "    for td in tr.find_all(['td', 'th']):\n",
    "        cnt *= 2\n",
    "print(cnt)"
   ]
  },
  {
   "cell_type": "markdown",
   "metadata": {},
   "source": [
    "В файле https://stepik.org/media/attachments/lesson/209723/3.html находится одна таблица. Просуммируйте все числа в ней и введите в качестве ответа одно число - эту сумму. Для доступа к ячейкам используйте возможности BeautifulSoup."
   ]
  },
  {
   "cell_type": "code",
   "execution_count": 67,
   "metadata": {},
   "outputs": [
    {
     "name": "stdout",
     "output_type": "stream",
     "text": [
      "1005425\n"
     ]
    }
   ],
   "source": [
    "from bs4 import BeautifulSoup\n",
    "import requests\n",
    "\n",
    "res = requests.get('https://stepik.org/media/attachments/lesson/209723/3.html')\n",
    "soup = BeautifulSoup(res.content, 'html.parser')\n",
    "\n",
    "table = [int(td.get_text().strip()) for td in soup.find_all('td')]\n",
    "\n",
    "print(sum(table))"
   ]
  },
  {
   "cell_type": "markdown",
   "metadata": {},
   "source": [
    "В файле https://stepik.org/media/attachments/lesson/209723/4.html находится одна таблица. Просуммируйте все числа в ней. Теперь мы добавили разных тегов для изменения стиля отображения. Для доступа к ячейкам используйте возможности BeautifulSoup."
   ]
  },
  {
   "cell_type": "code",
   "execution_count": 72,
   "metadata": {},
   "outputs": [
    {
     "name": "stdout",
     "output_type": "stream",
     "text": [
      "29536\n"
     ]
    }
   ],
   "source": [
    "from bs4 import BeautifulSoup\n",
    "import requests\n",
    "\n",
    "res = requests.get('https://stepik.org/media/attachments/lesson/209723/4.html')\n",
    "soup = BeautifulSoup(res.content, 'html.parser')\n",
    "\n",
    "table = [int(td.get_text().strip()) for td in soup.find_all('td')]\n",
    "\n",
    "print(sum(table))"
   ]
  },
  {
   "cell_type": "markdown",
   "metadata": {},
   "source": [
    "В файле https://stepik.org/media/attachments/lesson/209723/5.html находится одна таблица. Просуммируйте все числа в ней. Теперь мы не только добавили разных тегов для изменения стиля отображения, но и сделали невалидный HTML-код (правда, браузеры его отображают, а вот с BeautifulSoup могут быть проблемы). Невалидный HTML-код - не редкость в интернете, надо учиться работать и с этим.\n",
    "\n",
    "Вы можете исправить html-код или попробовать использовать нестандартный парсер html, такой как html5lib."
   ]
  },
  {
   "cell_type": "code",
   "execution_count": 73,
   "metadata": {},
   "outputs": [
    {
     "name": "stdout",
     "output_type": "stream",
     "text": [
      "28734\n"
     ]
    }
   ],
   "source": [
    "from bs4 import BeautifulSoup\n",
    "import requests\n",
    "\n",
    "res = requests.get('https://stepik.org/media/attachments/lesson/209723/5.html')\n",
    "soup = BeautifulSoup(res.content, 'html.parser')\n",
    "\n",
    "table = [int(td.get_text().strip()) for td in soup.find_all('td')]\n",
    "\n",
    "print(sum(table))"
   ]
  },
  {
   "cell_type": "markdown",
   "metadata": {},
   "source": [
    "## Электронные таблицы"
   ]
  },
  {
   "cell_type": "markdown",
   "metadata": {},
   "source": [
    "Для решения этой задачи необходимо установить библиотеку xlrd, скачать файл https://stepik.org/media/attachments/lesson/245266/tab.xlsx и создать в папке с этим файлом скрипт со следующем содержанием:"
   ]
  },
  {
   "cell_type": "code",
   "execution_count": 74,
   "metadata": {},
   "outputs": [
    {
     "name": "stdout",
     "output_type": "stream",
     "text": [
      "39650.2\n"
     ]
    }
   ],
   "source": [
    "import xlrd\n",
    "\n",
    "wb = xlrd.open_workbook('tab.xlsx')\n",
    "sheet_names = wb.sheet_names()\n",
    "sh = wb.sheet_by_name(sheet_names[0])\n",
    "nmin = sh.row_values(6)[2]\n",
    "for rownum in range(7, 27):\n",
    "    temp = sh.row_values(rownum)\n",
    "    nmin = min(nmin, temp[2])\n",
    "print(nmin)"
   ]
  },
  {
   "cell_type": "markdown",
   "metadata": {},
   "source": [
    "Вася планирует карьеру и переезд. Для это составил таблицу, в которой для каждого региона записал зарплаты для разных интересные ему профессий. Таблица доступна по ссылке https://stepik.org/media/attachments/lesson/245267/salaries.xlsx. Выведите название региона с самой высокой медианной зарплатой (медианой называется элемент, стоящий в середине массива после его упорядочивания) и, через пробел, название профессии с самой высокой средней зарплатой по всем регионам. "
   ]
  },
  {
   "cell_type": "code",
   "execution_count": 84,
   "metadata": {},
   "outputs": [
    {
     "name": "stdout",
     "output_type": "stream",
     "text": [
      "Куала-Лумпур Собачий парикмахер\n"
     ]
    }
   ],
   "source": [
    "import xlrd\n",
    "import requests\n",
    "\n",
    "res = requests.get('https://stepik.org/media/attachments/lesson/245267/salaries.xlsx')\n",
    "file = xlrd.open_workbook(file_contents=res.content)\n",
    "page = file.sheet_by_index(0)\n",
    "\n",
    "max_median = 0\n",
    "max_median_region = ''\n",
    "for i in range(1, page.nrows):    \n",
    "    median = sorted(page.row_values(i)[1:])\n",
    "    median = median[len(median)//2]\n",
    "    if median > max_median:\n",
    "        max_median = median\n",
    "        max_median_region = page.row_values(i)[0]\n",
    "print(max_median_region, end=' ')\n",
    "\n",
    "max_avg = 0\n",
    "max_avg_profession = ''\n",
    "for i in range(1, page.ncols):    \n",
    "    avg = page.col_values(i)[1:]\n",
    "    avg = sum(avg)/len(avg)\n",
    "    if avg > max_avg:\n",
    "        max_avg = avg\n",
    "        max_avg_profession = page.col_values(i)[0]\n",
    "print(max_avg_profession)\n"
   ]
  },
  {
   "cell_type": "markdown",
   "metadata": {},
   "source": [
    "то же самое через pandas"
   ]
  },
  {
   "cell_type": "code",
   "execution_count": 87,
   "metadata": {},
   "outputs": [
    {
     "name": "stdout",
     "output_type": "stream",
     "text": [
      "Куала-Лумпур Собачий парикмахер\n"
     ]
    }
   ],
   "source": [
    "import pandas as pd\n",
    "\n",
    "data = pd.read_excel('https://stepik.org/media/attachments/lesson/245267/salaries.xlsx', index_col=0)\n",
    "print(data.median(axis=1).idxmax(), data.mean(axis=0).idxmax())"
   ]
  },
  {
   "cell_type": "markdown",
   "metadata": {},
   "source": [
    "Васю назначили завхозом в туристической группе и он подошёл к подготовке ответственно, составив справочник продуктов с указанием калорийности на 100 грамм, а также содержание белков, жиров и углеводов на 100 грамм продукта. Ему не удалось найти всю информацию, поэтому некоторые ячейки остались незаполненными (можно считать их значение равным нулю). Также он использовал какой-то странный офисный пакет и разделял целую и дробную часть чисел запятой. Таблица доступна по ссылке https://stepik.org/media/attachments/lesson/245290/trekking1.xlsx\n",
    "\n",
    "Вася хочет минимизировать вес продуктов и для этого брать самые калорийные продукты. Помогите ему и упорядочите продукты по убыванию калорийности. В случае, если продукты имеют одинаковую калорийность - упорядочите их по названию. В качестве ответа необходимо сдать названия продуктов, по одному в строке."
   ]
  },
  {
   "cell_type": "code",
   "execution_count": 102,
   "metadata": {},
   "outputs": [],
   "source": [
    "import xlrd\n",
    "import requests\n",
    "\n",
    "res = requests.get('https://stepik.org/media/attachments/lesson/245290/trekking1.xlsx')\n",
    "file = xlrd.open_workbook(file_contents=res.content)\n",
    "page = file.sheet_by_index(0)\n",
    "\n",
    "d = {}\n",
    "for i in range(1, page.nrows):\n",
    "    if page.row_values(i)[0] not in d:\n",
    "        d[page.row_values(i)[0]] = page.row_values(i)[1]\n",
    "\n",
    "d_sort = sorted(d.items(), key=lambda x: (-x[1], x[0]))\n",
    "\n",
    "with open('answer.txt', 'w') as ans:\n",
    "    for elem in d_sort:\n",
    "        ans.write(elem[0].strip()+'\\n')"
   ]
  },
  {
   "cell_type": "markdown",
   "metadata": {},
   "source": [
    "Васю назначили завхозом в туристической группе и он подошёл к подготовке ответственно, составив справочник продуктов с указанием калорийности на 100 грамм, а также содержание белков, жиров и углеводов на 100 грамм продукта. Ему не удалось найти всю информацию, поэтому некоторые ячейки остались незаполненными (можно считать их значение равным нулю). Также он использовал какой-то странный офисный пакет и разделял целую и дробную часть чисел запятой. Таблица доступна по ссылке https://stepik.org/media/attachments/lesson/245290/trekking2.xlsx \n",
    "\n",
    "Вася составил раскладку по продуктам на один день (она на листе \"Раскладка\") с указанием названия продукта и его количества в граммах. Посчитайте 4 числа: суммарную калорийность и граммы белков, жиров и углеводов. Числа округлите до целых вниз и введите через пробел."
   ]
  },
  {
   "cell_type": "code",
   "execution_count": 148,
   "metadata": {},
   "outputs": [
    {
     "name": "stdout",
     "output_type": "stream",
     "text": [
      "4963 203 307 302\n"
     ]
    }
   ],
   "source": [
    "import xlrd\n",
    "import requests\n",
    "\n",
    "res = requests.get('https://stepik.org/media/attachments/lesson/245290/trekking2.xlsx')\n",
    "file = xlrd.open_workbook(file_contents=res.content)\n",
    "products = file.sheet_by_name('Справочник')\n",
    "day_norm = file.sheet_by_name('Раскладка')\n",
    "\n",
    "row = -1\n",
    "calories = .0\n",
    "proteins = .0\n",
    "fats = .0\n",
    "carbons = .0\n",
    "\n",
    "for row_num in range(1, day_norm.nrows):\n",
    "    product = day_norm.row_values(row_num)[0]\n",
    "    gramm = float(day_norm.row_values(row_num)[1])\n",
    "    if product in products.col_values(0, start_rowx=1):\n",
    "        row = products.col_values(0).index(product)\n",
    "        calories += (float(products.col_values(1)[row]) * gramm / 100) if products.col_values(1)[row] !='' else 0\n",
    "        proteins += (float(products.col_values(2)[row]) * gramm / 100) if products.col_values(2)[row] !='' else 0\n",
    "        fats += (float(products.col_values(3)[row]) * gramm / 100) if products.col_values(3)[row] !='' else 0\n",
    "        carbons += (float(products.col_values(4)[row]) * gramm / 100) if products.col_values(4)[row] !='' else 0\n",
    "\n",
    "print(int(calories), int(proteins), int(fats), int(carbons))"
   ]
  },
  {
   "cell_type": "markdown",
   "metadata": {},
   "source": [
    "Васю назначили завхозом в туристической группе и он подошёл к подготовке ответственно, составив справочник продуктов с указанием калорийности на 100 грамм, а также содержание белков, жиров и углеводов на 100 грамм продукта. Ему не удалось найти всю информацию, поэтому некоторые ячейки остались незаполненными (можно считать их значение равным нулю). Также он использовал какой-то странный офисный пакет и разделял целую и дробную часть чисел запятой. Таблица доступна по ссылке https://stepik.org/media/attachments/lesson/245290/trekking3.xlsx\n",
    "\n",
    "Вася составил раскладку по продуктам на весь поход (она на листе \"Раскладка\") с указанием номера дня, названия продукта и его количества в граммах. Для каждого дня посчитайте 4 числа: суммарную калорийность и граммы белков, жиров и углеводов. Числа округлите до целых вниз и введите через пробел. Информация о каждом дне должна выводиться в отдельной строке."
   ]
  },
  {
   "cell_type": "code",
   "execution_count": 152,
   "metadata": {},
   "outputs": [
    {
     "name": "stdout",
     "output_type": "stream",
     "text": [
      "2405 82 154 172\n",
      "4963 203 307 302\n",
      "5219 178 267 502\n",
      "4873 241 204 537\n",
      "5278 243 314 367\n",
      "4451 190 188 497\n",
      "4806 205 265 386\n",
      "5738 264 195 720\n",
      "1766 66 90 171\n"
     ]
    }
   ],
   "source": [
    "import xlrd\n",
    "import requests\n",
    "\n",
    "res = requests.get('https://stepik.org/media/attachments/lesson/245290/trekking3.xlsx')\n",
    "file = xlrd.open_workbook(file_contents=res.content)\n",
    "products = file.sheet_by_name('Справочник')\n",
    "day_norm = file.sheet_by_name('Раскладка')\n",
    "\n",
    "row = -1\n",
    "calories = .0\n",
    "proteins = .0\n",
    "fats = .0\n",
    "carbons = .0\n",
    "\n",
    "days = set([int(i) for i in day_norm.col_values(0, start_rowx=1)])\n",
    "for d in days:\n",
    "    row = -1\n",
    "    calories = .0\n",
    "    proteins = .0\n",
    "    fats = .0\n",
    "    carbons = .0\n",
    "    for row_num in range(1, day_norm.nrows):\n",
    "        if day_norm.row_values(row_num)[0] != d:\n",
    "            continue\n",
    "        product = day_norm.row_values(row_num)[1]\n",
    "        gramm = float(day_norm.row_values(row_num)[2])\n",
    "        if product in products.col_values(0, start_rowx=1):\n",
    "            row = products.col_values(0).index(product)\n",
    "            calories += (float(products.col_values(1)[row]) * gramm / 100) if products.col_values(1)[row] !='' else 0\n",
    "            proteins += (float(products.col_values(2)[row]) * gramm / 100) if products.col_values(2)[row] !='' else 0\n",
    "            fats += (float(products.col_values(3)[row]) * gramm / 100) if products.col_values(3)[row] !='' else 0\n",
    "            carbons += (float(products.col_values(4)[row]) * gramm / 100) if products.col_values(4)[row] !='' else 0\n",
    "\n",
    "    print(int(calories), int(proteins), int(fats), int(carbons))"
   ]
  },
  {
   "cell_type": "markdown",
   "metadata": {},
   "source": [
    "Главный бухгалтер компании \"Рога и копыта\" случайно удалил ведомость с начисленной зарплатой. К счастью, у него сохранились расчётные листки всех сотрудников. Помогите по этим расчётным листкам восстановить зарплатную ведомость. Архив с расчётными листками доступен по ссылке https://stepik.org/media/attachments/lesson/245299/rogaikopyta.zip (вы можете скачать и распаковать его вручную или самостоятельно научиться делать это с помощью скрипта на Питоне).\n",
    "\n",
    "Ведомость должна содержать 1000 строк, в каждой строке должно быть указано ФИО сотрудника и, через пробел, его зарплата. Сотрудники должны быть упорядочены по алфавиту."
   ]
  },
  {
   "cell_type": "code",
   "execution_count": 174,
   "metadata": {},
   "outputs": [],
   "source": [
    "import os\n",
    "import xlrd\n",
    "\n",
    "wd =  os.path.split(os.getcwd())[1]\n",
    "if wd != 'rogaikopyta':\n",
    "    os.chdir('rogaikopyta')\n",
    "\n",
    "dic = {}\n",
    "\n",
    "for d, dirs, files in os.walk(os.getcwd()):\n",
    "    for f in files:\n",
    "        file = xlrd.open_workbook(f)\n",
    "        sheet = file.sheet_by_index(0)\n",
    "        if sheet.col_values(1)[1] not in dic:\n",
    "            dic[sheet.col_values(1)[1]] = int(sheet.col_values(3)[1])\n",
    "\n",
    "with open('../answer.txt', 'w') as f:\n",
    "    for key in sorted(dic):\n",
    "        f.write(key + ' ' + str(dic[key]) + '\\n')\n",
    "    \n",
    "\n",
    "os.chdir('..')"
   ]
  },
  {
   "cell_type": "markdown",
   "metadata": {},
   "source": [
    "## XML и работа с Open Street Map"
   ]
  },
  {
   "cell_type": "markdown",
   "metadata": {},
   "source": [
    "В этой задаче нужно просто установить библиотеку xmltodict, скачать файл https://stepik.org/media/attachments/lesson/245571/map1.osm, создать в директории с файлом скрипт со следующим содержанием:"
   ]
  },
  {
   "cell_type": "code",
   "execution_count": 177,
   "metadata": {},
   "outputs": [
    {
     "name": "stdout",
     "output_type": "stream",
     "text": [
      "296932122\n"
     ]
    }
   ],
   "source": [
    "import xmltodict\n",
    "\n",
    "fin = open('map1.osm', 'r', encoding='utf8')\n",
    "xml = fin.read()\n",
    "fin.close()\n",
    "\n",
    "parsedxml = xmltodict.parse(xml)\n",
    "print(parsedxml['osm']['node'][100]['@id'])"
   ]
  },
  {
   "cell_type": "markdown",
   "metadata": {},
   "source": [
    "В OpenStreetMap XML встречаются теги node, которые соответствуют некоторым точкам на карте. Ноды могут не только обозначать какой-то точечный объект, но и входить в состав way (некоторой линии, возможно замкнутой) и не иметь собственных тегов. Для доступного по ссылке https://stepik.org/media/attachments/lesson/245678/map1.osm фрагмента карты посчитайте, сколько node имеет хотя бы один вложенный тэг tag, а сколько - не имеют. В качестве ответа введите два числа, разделённых пробелом."
   ]
  },
  {
   "cell_type": "code",
   "execution_count": 185,
   "metadata": {},
   "outputs": [
    {
     "name": "stdout",
     "output_type": "stream",
     "text": [
      "316 6166\n"
     ]
    }
   ],
   "source": [
    "import xmltodict\n",
    "\n",
    "with open('map1.osm') as f:\n",
    "    xml = f.read()\n",
    "    \n",
    "xml = xmltodict.parse(xml)\n",
    "counter_yes = 0\n",
    "counter_no = 0\n",
    "\n",
    "for i in range(len(xml['osm']['node'])):\n",
    "    if 'tag' in xml['osm']['node'][i]:\n",
    "        counter_yes += 1\n",
    "    else:\n",
    "        counter_no += 1\n",
    "        \n",
    "print(counter_yes, counter_no)"
   ]
  },
  {
   "cell_type": "markdown",
   "metadata": {},
   "source": [
    "Вася решил открыть АЗС (заправку). Чтобы оценить уровень конкуренции он хочет изучить количество заправок в интересующем его районе. Вася скачал интересующий его кусок карты OSM https://stepik.org/media/attachments/lesson/245681/map2.osm и хочет посчитать, сколько на нём отмечено точечных объектов (node), являющихся заправкой. В качестве ответа вам необходимо вывести одно число - количество АЗС.\n",
    "\n",
    "\"Как обозначается заправка в OpenStreetMap\" - пример хорошего запроса чтобы узнать, как обозначается заправка в OpenStreetMap."
   ]
  },
  {
   "cell_type": "code",
   "execution_count": 217,
   "metadata": {},
   "outputs": [
    {
     "name": "stdout",
     "output_type": "stream",
     "text": [
      "27\n"
     ]
    }
   ],
   "source": [
    "import xmltodict\n",
    "\n",
    "with open('map2.osm') as f:\n",
    "    xml = f.read()\n",
    "    \n",
    "xml = xmltodict.parse(xml)\n",
    "counter = 0\n",
    "\n",
    "for node in xml['osm']['node']:\n",
    "    if 'tag' in node:\n",
    "        tags = node['tag']\n",
    "        if isinstance(tags, list):\n",
    "            for tag in tags:\n",
    "                if '@k' in tag and '@v' in tag and tag['@k'] == 'amenity' and tag['@v'] == 'fuel':\n",
    "                    counter += 1\n",
    "        elif isinstance(tags,dict):\n",
    "            if (tags['@v'])=='fuel':\n",
    "                counter += 1\n",
    "        \n",
    "print(counter)\n"
   ]
  },
  {
   "cell_type": "markdown",
   "metadata": {},
   "source": [
    "вариант без танцев с бубнами"
   ]
  },
  {
   "cell_type": "code",
   "execution_count": 216,
   "metadata": {},
   "outputs": [
    {
     "name": "stdout",
     "output_type": "stream",
     "text": [
      "15\n"
     ]
    }
   ],
   "source": [
    "import xml.etree.ElementTree as ET\n",
    "\n",
    "root = ET.parse('map2.osm').getroot()\n",
    "nodes = root.findall(\"./node/tag[@k='amenity'][@v='fuel']\")\n",
    "print(len(nodes))"
   ]
  },
  {
   "cell_type": "markdown",
   "metadata": {},
   "source": [
    "Вася, открывший заправку в прошлом уроке, разорился. Конкуренция оказалась слишком большой. Вася предполагает, что это произошло от того, что теги заправки могут быть не только на точке, но и на каком-то контуре. Определите, сколько заправок на самом деле (не только обозначенных точкой) есть на фрагменте карты https://stepik.org/media/attachments/lesson/245681/map2.osm"
   ]
  },
  {
   "cell_type": "code",
   "execution_count": 218,
   "metadata": {},
   "outputs": [
    {
     "name": "stdout",
     "output_type": "stream",
     "text": [
      "27\n"
     ]
    }
   ],
   "source": [
    "import xmltodict\n",
    "\n",
    "with open('map2.osm') as f:\n",
    "    xml = f.read()\n",
    "    \n",
    "xml = xmltodict.parse(xml)\n",
    "counter = 0\n",
    "\n",
    "for node in xml['osm']['node']:\n",
    "    if 'tag' in node:\n",
    "        tags = node['tag']\n",
    "        if isinstance(tags, list):\n",
    "            for tag in tags:\n",
    "                if '@k' in tag and '@v' in tag and tag['@k'] == 'amenity' and tag['@v'] == 'fuel':\n",
    "                    counter += 1\n",
    "        elif isinstance(tags,dict):\n",
    "            if (tags['@v'])=='fuel':\n",
    "                counter += 1\n",
    "        \n",
    "for node in xml['osm']['way']:\n",
    "    if 'tag' in node:\n",
    "        tags = node['tag']\n",
    "        if isinstance(tags, list):\n",
    "            for tag in tags:\n",
    "                if '@k' in tag and '@v' in tag and tag['@k'] == 'amenity' and tag['@v'] == 'fuel':\n",
    "                    counter += 1\n",
    "        elif isinstance(tags,dict):\n",
    "            if (tags['@v'])=='fuel':\n",
    "                counter += 1\n",
    "\n",
    "print(counter)\n"
   ]
  },
  {
   "cell_type": "code",
   "execution_count": 221,
   "metadata": {},
   "outputs": [
    {
     "name": "stdout",
     "output_type": "stream",
     "text": [
      "27\n"
     ]
    }
   ],
   "source": [
    "import xml.etree.ElementTree as ET\n",
    "\n",
    "root = ET.parse('map2.osm').getroot()\n",
    "nodes = root.findall(\"./node/tag[@k='amenity'][@v='fuel']\")\n",
    "nodes += root.findall(\"./way/tag[@k='amenity'][@v='fuel']\")\n",
    "\n",
    "print(len(nodes))"
   ]
  },
  {
   "cell_type": "code",
   "execution_count": 222,
   "metadata": {},
   "outputs": [
    {
     "name": "stdout",
     "output_type": "stream",
     "text": [
      "27\n"
     ]
    }
   ],
   "source": [
    "with open('map2.osm', 'r', encoding='utf8') as f:\n",
    "    print(sum('v=\"fuel\"' in v for v in f))"
   ]
  },
  {
   "cell_type": "markdown",
   "metadata": {},
   "source": [
    "## Построение графиков с pyplot"
   ]
  },
  {
   "cell_type": "code",
   "execution_count": 224,
   "metadata": {},
   "outputs": [
    {
     "data": {
      "image/png": "[encoded data removed]",
      "text/plain": [
       "<Figure size 432x288 with 1 Axes>"
      ]
     },
     "metadata": {
      "needs_background": "light"
     },
     "output_type": "display_data"
    }
   ],
   "source": [
    "import matplotlib.pyplot as plt # подключаем библиотеку с коротким названием, чтобы не писать каждый раз много букв\n",
    "import math\n",
    "\n",
    "fig = plt.figure() # создаем график\n",
    "\n",
    "plt.axis([0, 10, -1.5, 1.5]) # на оси x будет изображаться участок от 0 до 10, а на оси y от -1.5 до 1.5\n",
    "\n",
    "plt.xlabel('x') # подпись оси x\n",
    "plt.ylabel('sin(x)') # подпись оси y\n",
    "\n",
    "xs = [] # здесь будут параметры функции (x координаты изображаемых точек)\n",
    "sin_vals = [] # здесь будут значения функции (y координаты изображаемых точек)\n",
    "\n",
    "x = 0.0\n",
    "while x < 10.0: # заполняем списки\n",
    "    sin_vals.append(math.sin(x))\n",
    "    xs.append(x)\n",
    "    x += 0.01\n",
    "\n",
    "plt.plot(xs, sin_vals) # создаем график: первый аргумент - список x-координат, второй - соответствующие y-координаты\n",
    "\n",
    "fig.savefig('sin.png') # сохраняем график в файл\n",
    "#plt.show()"
   ]
  },
  {
   "cell_type": "code",
   "execution_count": 225,
   "metadata": {},
   "outputs": [
    {
     "data": {
      "image/png": "[encoded data removed]",
      "text/plain": [
       "<Figure size 512x384 with 1 Axes>"
      ]
     },
     "metadata": {
      "needs_background": "light"
     },
     "output_type": "display_data"
    }
   ],
   "source": [
    "#!/usr/bin/env python3\n",
    "\n",
    "import matplotlib as mpl\n",
    "import matplotlib.pyplot as plt\n",
    "import math\n",
    "\n",
    "dpi = 80\n",
    "fig = plt.figure(dpi = dpi, figsize = (512 / dpi, 384 / dpi) )\n",
    "mpl.rcParams.update({'font.size': 10})\n",
    "\n",
    "plt.axis([0, 10, -1.5, 1.5])\n",
    "\n",
    "plt.title('Sine & Cosine')\n",
    "plt.xlabel('x')\n",
    "plt.ylabel('F(x)')\n",
    "\n",
    "xs = []\n",
    "sin_vals = []\n",
    "cos_vals = []\n",
    "\n",
    "x = 0.0\n",
    "while x < 10.0:\n",
    "    sin_vals += [ math.sin(3 * x) ]\n",
    "    cos_vals += [ math.cos(x) ]\n",
    "    xs += [x]\n",
    "    x += 0.1\n",
    "\n",
    "plt.plot(xs, sin_vals, color = 'blue', linestyle = 'solid',\n",
    "         label = 'sin(3x)')\n",
    "plt.plot(xs, cos_vals, color = 'red', linestyle = 'dashed',\n",
    "         label = 'cos(x)')\n",
    "\n",
    "plt.legend(loc = 'upper right')\n",
    "fig.savefig('trigan.png')"
   ]
  },
  {
   "cell_type": "code",
   "execution_count": 228,
   "metadata": {},
   "outputs": [
    {
     "data": {
      "image/png": "[encoded data removed]",
      "text/plain": [
       "<Figure size 512x384 with 1 Axes>"
      ]
     },
     "metadata": {
      "needs_background": "light"
     },
     "output_type": "display_data"
    }
   ],
   "source": [
    "#!/usr/bin/env python3\n",
    "# vim: set ai et ts=4 sw=4:\n",
    "\n",
    "import matplotlib as mpl\n",
    "import matplotlib.pyplot as plt\n",
    "import math\n",
    "\n",
    "dpi = 80\n",
    "fig = plt.figure(dpi = dpi, figsize = (512 / dpi, 384 / dpi) )\n",
    "mpl.rcParams.update({'font.size': 10})\n",
    "\n",
    "plt.axis([0, 10, -1.5, 1.5])\n",
    "\n",
    "plt.title('Sine & Cosine')\n",
    "plt.xlabel('x')\n",
    "plt.ylabel('F(x)')\n",
    "\n",
    "xs = []\n",
    "sin_vals = []\n",
    "cos_vals = []\n",
    "\n",
    "x = 0.0\n",
    "while x < 10.0:\n",
    "    sin_vals += [ math.sin(x) ]\n",
    "    cos_vals += [ math.cos(x) ]\n",
    "    xs += [x]\n",
    "    x += 0.1\n",
    "\n",
    "plt.plot(xs, sin_vals, color = 'blue', linestyle = 'solid',\n",
    "         label = 'sin(x)')\n",
    "plt.plot(xs, cos_vals, color = 'red', linestyle = 'dashed',\n",
    "         label = 'cos(x)')\n",
    "\n",
    "plt.legend(loc = 'lower left')\n",
    "fig.savefig('trigan.png')"
   ]
  },
  {
   "cell_type": "code",
   "execution_count": 230,
   "metadata": {},
   "outputs": [
    {
     "name": "stderr",
     "output_type": "stream",
     "text": [
      "/Users/natasha/anaconda3/lib/python3.7/site-packages/ipykernel_launcher.py:22: MatplotlibDeprecationWarning: Adding an axes using the same arguments as a previous axes currently reuses the earlier instance.  In a future version, a new instance will always be created and returned.  Meanwhile, this warning can be suppressed, and the future behavior ensured, by passing a unique label to each axes instance.\n"
     ]
    },
    {
     "data": {
      "image/png": "[encoded data removed]",
      "text/plain": [
       "<Figure size 1024x768 with 1 Axes>"
      ]
     },
     "metadata": {
      "needs_background": "light"
     },
     "output_type": "display_data"
    }
   ],
   "source": [
    "#!/usr/bin/env python3\n",
    "# vim: set ai et ts=4 sw=4:\n",
    "\n",
    "import matplotlib as mpl\n",
    "import matplotlib.pyplot as plt\n",
    "import matplotlib.dates as mdates\n",
    "import datetime as dt\n",
    "import csv\n",
    "\n",
    "data_names = ['cafe', 'pharmacy', 'fuel', 'bank', 'waste_disposal',\n",
    "              'atm', 'bench', 'parking', 'restaurant',\n",
    "              'place_of_worship']\n",
    "data_values = [9124, 8652, 7592, 7515, 7041, 6487, 6374, 6277,\n",
    "               5092, 3629]\n",
    "\n",
    "dpi = 80\n",
    "fig = plt.figure(dpi = dpi, figsize = (1024 / dpi, 768 / dpi) )\n",
    "mpl.rcParams.update({'font.size': 10})\n",
    "\n",
    "plt.title('OpenStreetMap Point Types')\n",
    "\n",
    "ax = plt.axes()\n",
    "ax.yaxis.grid(True, zorder = 1)\n",
    "\n",
    "xs = range(len(data_names))\n",
    "\n",
    "plt.bar([x + 0.05 for x in xs], [ d * 0.9 for d in data_values],\n",
    "        width = 0.2, color = 'red', alpha = 0.7, label = '2016',\n",
    "        zorder = 2)\n",
    "plt.bar([x + 0.3 for x in xs], data_values,\n",
    "        width = 0.2, color = 'blue', alpha = 0.7, label = '2017',\n",
    "        zorder = 2)\n",
    "plt.xticks(xs, data_names)\n",
    "\n",
    "fig.autofmt_xdate(rotation = 25)\n",
    "\n",
    "plt.legend(loc='upper right')\n",
    "fig.savefig('bars.png')"
   ]
  },
  {
   "cell_type": "markdown",
   "metadata": {},
   "source": [
    "В этой задаче вам необходимо научиться генерировать html-код на питоне и сдать на проверку html-файл, в котором будет таблица размером 10 на 10, которая должна содержать таблицу умножения для чисел от 1 до 10. При открытии вашего файла в браузере это должно выглядеть примерно так:"
   ]
  },
  {
   "cell_type": "code",
   "execution_count": 234,
   "metadata": {},
   "outputs": [],
   "source": [
    "with open('answer.html', 'w') as f:\n",
    "    f.write('<html><body><table>\\n')\n",
    "    for i in range(1, 11):\n",
    "        s = '<tr>'\n",
    "        for j in range(1, 11):\n",
    "            s += f'<td>{i * j}</td>'\n",
    "        f.write(s + '</tr>\\n')\n",
    "    f.write('</table></body></html>')"
   ]
  },
  {
   "cell_type": "markdown",
   "metadata": {},
   "source": [
    "В этой задаче вам предстоит научиться создавать ссылки. Вам нужно сгенерировать html-код на питоне и сдать на проверку html-файл, в котором будет таблица размером 10 на 10, которая должна содержать таблицу умножения для чисел от 1 до 10. Каждое число в таблице должно быть ссылкой на страницу http://<это число>.ru. Например, число 12 должно быть ссылкой на страницу http://12.ru"
   ]
  },
  {
   "cell_type": "code",
   "execution_count": 235,
   "metadata": {},
   "outputs": [],
   "source": [
    "with open('answer.html', 'w') as f:\n",
    "    f.write('<html><body><table>\\n')\n",
    "    for i in range(1, 11):\n",
    "        s = '<tr>'\n",
    "        for j in range(1, 11):\n",
    "            s += f'<td><a href=http://{i * j}.ru>{i*j}</a></td>'\n",
    "        f.write(s + '</tr>\\n')\n",
    "    f.write('</table></body></html>')"
   ]
  },
  {
   "cell_type": "markdown",
   "metadata": {},
   "source": [
    "В этой задаче вам предстоит настроить и запустить веб-сервер. Создайте файл index.html с формой, в которой есть единственное текстовое поле ввода с именем INPUT_TEXT и кнопка отправить.\n",
    "\n",
    "В папке cgi-bin создайте скрипт со следующим содержанием:\n",
    "\n",
    "Запустите скрипт, поднимающий веб-сервер с вашей формой, откройте страницу и введите слово Python (обязательно с большой буквы). У вас должна открыться страница, содержащая единственное число, введите его в качестве ответа."
   ]
  },
  {
   "cell_type": "code",
   "execution_count": 238,
   "metadata": {},
   "outputs": [
    {
     "name": "stdout",
     "output_type": "stream",
     "text": [
      "Content-type: text/html\n",
      "\n",
      "<!DOCTYPE HTML>\n",
      "        <html>\n",
      "        <head>\n",
      "            <meta charset=\"utf-8\">\n",
      "        </head>\n",
      "        <body>\n",
      "<h1>58402725469969025762522153529653374008565056</h1>\n",
      "</body>\n",
      "        </html>\n"
     ]
    }
   ],
   "source": [
    "#!/usr/bin/env python3\n",
    "import cgi\n",
    "\n",
    "def ohash(s):\n",
    "    ans = 0\n",
    "    for c in s:\n",
    "        ans = ans * 123417 + ord(c)\n",
    "    return ans\n",
    "\n",
    "form = cgi.FieldStorage()\n",
    "text = form.getfirst(\"INPUT_TEXT\", \"не задано\")\n",
    "\n",
    "print(\"Content-type: text/html\\n\")\n",
    "print(\"\"\"<!DOCTYPE HTML>\n",
    "        <html>\n",
    "        <head>\n",
    "            <meta charset=\"utf-8\">\n",
    "        </head>\n",
    "        <body>\"\"\")\n",
    "\n",
    "print(\"<h1>\" + str(ohash(text)) + \"</h1>\")\n",
    "\n",
    "print(\"\"\"</body>\n",
    "        </html>\"\"\")"
   ]
  },
  {
   "cell_type": "code",
   "execution_count": 237,
   "metadata": {},
   "outputs": [
    {
     "name": "stdout",
     "output_type": "stream",
     "text": [
      "2290710658703611189398393962\n"
     ]
    }
   ],
   "source": [
    "def ohash(s):\n",
    "    ans = 0\n",
    "    for c in s:\n",
    "        ans = ans * 123417 + ord(c)\n",
    "    return ans\n",
    "\n",
    "print(str(ohash('Python')))"
   ]
  },
  {
   "cell_type": "markdown",
   "metadata": {},
   "source": [
    "**ВАЖНО!!** запуск встроенного web-сервера\n",
    "```\n",
    "python3 -m http.server --cgi\n",
    "```"
   ]
  },
  {
   "cell_type": "markdown",
   "metadata": {},
   "source": [
    "В этой задаче вам предстоит настроить и запустить веб-сервер, а также обнаружить проблему в скрипте, обрабатывающем данные формы. Создайте файл index.html с формой, в которой есть единственное текстовое поле ввода с именем INPUT_TEXT и кнопка отправить.\n",
    "\n",
    "В папке cgi-bin создайте скрипт со следующим содержанием:"
   ]
  },
  {
   "cell_type": "code",
   "execution_count": null,
   "metadata": {},
   "outputs": [],
   "source": [
    "#!/usr/bin/env python3\n",
    "import cgi\n",
    "\n",
    "form = cgi.FieldStorage()\n",
    "text = form.getfirst(\"INPUT_TEXT\", \"не задано\")\n",
    "text = text[:-1]\n",
    "\n",
    "print(\"Content-type: text/html\\n\")\n",
    "print(\"\"\"<!DOCTYPE HTML>\n",
    "        <html>\n",
    "        <head>\n",
    "            <meta charset=\"utf-8\">\n",
    "        </head>\n",
    "        <body>\"\"\")\n",
    "\t\t\n",
    "for i in range(1, len(text) + 1, 2):\n",
    "\tprint(\"<h1>\" + str(hash(text[i])) + \"</h1>\")\n",
    "\n",
    "print(\"\"\"</body>\n",
    "        </html>\"\"\")"
   ]
  },
  {
   "cell_type": "markdown",
   "metadata": {},
   "source": [
    "Запустите скрипт, поднимающий веб-сервер с вашей формой, откройте страницу и введите слово Python (обязательно с большой буквы). У вас должна открыться страница, содержащая несколько чисел. Однако, если вы откроете ее исходный текст, то обнаружите, что она обрывается без закрытия некоторых тегов, а это значит, что что-то пошло не так.\n",
    "\n",
    "Поймите, где искать сообщение об ошибке и в качестве ответа введите номер строки, в которой произошла ошибка."
   ]
  },
  {
   "cell_type": "markdown",
   "metadata": {},
   "source": [
    "17 строка - выход за границы диапазона"
   ]
  }
 ],
 "metadata": {
  "kernelspec": {
   "display_name": "Python 3",
   "language": "python",
   "name": "python3"
  },
  "language_info": {
   "codemirror_mode": {
    "name": "ipython",
    "version": 3
   },
   "file_extension": ".py",
   "mimetype": "text/x-python",
   "name": "python",
   "nbconvert_exporter": "python",
   "pygments_lexer": "ipython3",
   "version": "3.7.3"
  }
 },
 "nbformat": 4,
 "nbformat_minor": 4
}
